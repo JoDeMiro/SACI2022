{
 "cells": [
  {
   "cell_type": "code",
   "execution_count": 51,
   "id": "01581704",
   "metadata": {},
   "outputs": [
    {
     "name": "stdout",
     "output_type": "stream",
     "text": [
      "(970, 21)\n",
      "(970,)\n",
      "nRowsRead=9999&window=21&threshold=-1.0\n",
      "setup       <Response [200]>\n",
      "initialize  <Response [200]>\n",
      "uploader    <Response [200]>\n",
      "testpoint   <Response [200]>\n"
     ]
    }
   ],
   "source": [
    "# Driver\n",
    "\n",
    "# Küldjünk valami csomagot a workernek\n",
    "\n",
    "import numpy as np\n",
    "import requests\n",
    "import codecs\n",
    "import pickle\n",
    "import joblib\n",
    "import json\n",
    "import time\n",
    "import os\n",
    "from warnings import simplefilter\n",
    "from sklearn import datasets\n",
    "from sklearn.neural_network import MLPRegressor\n",
    "from sklearn.exceptions import ConvergenceWarning\n",
    "simplefilter(\"ignore\", category=ConvergenceWarning)\n",
    "\n",
    "# beállítunk néhány paraméter ami amit később használunk\n",
    "# ezeket az értékeket sajnos a Driver oldalon is ki kell számolnunk, ha úgy csináljuk, hogy a modelt küldjük át\n",
    "# fontos, hogy számos paraméter szinkronizálva legyen, különben ami model itt előáll az a Worker oldalon eltörik\n",
    "arch = (2,2)                                # <-- nn(arch)\n",
    "window = 21                                 # <-- bementi változók száma\n",
    "nRowsRead = 9999                            # <-- ez lehet alapján csinálunk modelt, de lehet más is mint odaát\n",
    "threshold = -1.0                         # <-- a trader parametére\n",
    "\n",
    "# elő kell állítani a túloldali adatsorral azonos szart np.[970, 20] és np[970]\n",
    "x_train = np.ones((970, window))\n",
    "y_train = np.zeros(970)\n",
    "print(x_train.shape)\n",
    "print(y_train.shape)\n",
    "clf = MLPRegressor(hidden_layer_sizes=arch, max_iter=3, shuffle=False, activation='tanh', random_state=1)\n",
    "clf.fit(x_train, y_train)\n",
    "\n",
    "# ---------------------------------------------------------------------------\n",
    "# Ugyan ez a Joblib használatával (ez valami filét is csiál rendesen a diskre)\n",
    "# from joblib import dump, load\n",
    "joblib.dump(clf, 'model.joblib')         # <-- elmenjük\n",
    "clf = joblib.load('model.joblib')        # <-- betöltjük\n",
    "\n",
    "# ---------------------------------------------------------------------------\n",
    "# nem a pickle-t használom, hanem a joblibet, de itt hagyom\n",
    "# s = pickle.dumps(clf)     # <-- csinálunk belőe bytot\n",
    "# print(type(s))            # <-- ez byte valahogy biztosan át lehet küldeni.\n",
    "# clf = pickle.loads(s)    # <-- betöltjük\n",
    "# clf.predict(x_train)\n",
    "\n",
    "\n",
    "# ---------------------------------------------------------------------------\n",
    "\n",
    "\n",
    "# ---------------------------------------------------------------------------\n",
    "\n",
    "\n",
    "\n",
    "# worker_address = 'http://192.168.0.212:8080'\n",
    "# worker_address = 'http://192.168.0.32:8080'\n",
    "worker_address = 'http://192.168.0.247:8080'\n",
    "\n",
    "\n",
    "\n",
    "# ---------------------------------------------------------------------------\n",
    "\n",
    "\n",
    "# Setuppolni kell a paramétereket\n",
    "request_params = 'nRowsRead=' + (str)(nRowsRead) + '&' + 'window=' + (str)(window) + '&' + 'threshold=' + (str)(threshold)\n",
    "print(request_params)\n",
    "# resp = requests.get('http://192.168.0.247:8080/setup?nRowsRead=2998&window=20&threshold=-1000')\n",
    "# resp = requests.get('http://192.168.0.247:8080/setup?' + request_params)\n",
    "resp = requests.get(worker_address + '/setup?' + request_params)\n",
    "\n",
    "\n",
    "print('setup      ', resp)\n",
    "\n",
    "# Ezzel simán meghívjuk a Worker INITIALIZE REST API Végpontját\n",
    "resp = requests.get(worker_address + '/initilaize')\n",
    "print('initialize ', resp)\n",
    "\n",
    "# Ezzel a módszerrel lehet átküldeni neki a joblib model filét\n",
    "uploadResultUrl = worker_address + '/uploader'\n",
    "filePath = \"model.joblib\"\n",
    "fileFp = open(filePath, 'rb')\n",
    "fileInfoDict = {\n",
    "    \"file\": fileFp,\n",
    "}\n",
    "resp = requests.post(uploadResultUrl, files=fileInfoDict)\n",
    "print('uploader   ', resp)                                # <-- ez nagyon jó ha <Response [200]> mert akkor átment a file\n",
    "\n",
    "\n",
    "# Átküldök egy értéket a Workernek\n",
    "resp = requests.get(worker_address + '/testpoint?value=123456789')\n",
    "print('testpoint  ', resp)\n"
   ]
  },
  {
   "cell_type": "code",
   "execution_count": 52,
   "id": "cd429ace",
   "metadata": {},
   "outputs": [
    {
     "name": "stdout",
     "output_type": "stream",
     "text": [
      "0 testpoint   <Response [200]>\n",
      "1 testpoint   <Response [200]>\n",
      "2 testpoint   <Response [200]>\n",
      "3 testpoint   <Response [200]>\n",
      "4 testpoint   <Response [200]>\n"
     ]
    }
   ],
   "source": [
    "# Terhelés, küldjük el többször csak a modell, hívjuk az upload REST API-t\n",
    "milliseconds = 100\n",
    "wait = 0.001 * milliseconds\n",
    "\n",
    "for i in range(5):\n",
    "    time.sleep(wait)\n",
    "    # Átküldök egy értéket a Workernek\n",
    "    value = (str)(i*123456)\n",
    "    resp = requests.get(worker_address + '/testpoint?value=' + value)\n",
    "    print(i, 'testpoint  ', resp)"
   ]
  },
  {
   "cell_type": "code",
   "execution_count": 53,
   "id": "fd3fc60b",
   "metadata": {},
   "outputs": [
    {
     "name": "stdout",
     "output_type": "stream",
     "text": [
      "0 uploader    <Response [200]>\n",
      "1 uploader    <Response [200]>\n",
      "2 uploader    <Response [200]>\n",
      "3 uploader    <Response [200]>\n",
      "4 uploader    <Response [200]>\n"
     ]
    }
   ],
   "source": [
    "# Terhelés, küldjük el többször csak a modell, hívjuk az upload REST API-t\n",
    "milliseconds = 100\n",
    "wait = 0.001 * milliseconds\n",
    "\n",
    "for i in range(5):\n",
    "    time.sleep(wait)\n",
    "    # Ezzel a módszerrel lehet átküldeni neki a joblib model filét\n",
    "    uploadResultUrl = worker_address + '/uploader'\n",
    "    filePath = \"model.joblib\"\n",
    "    fileFp = open(filePath, 'rb')\n",
    "    fileInfoDict = {\n",
    "        \"file\": fileFp,\n",
    "    }\n",
    "    resp = requests.post(uploadResultUrl, files=fileInfoDict)\n",
    "    print(i, 'uploader   ', resp)"
   ]
  },
  {
   "cell_type": "code",
   "execution_count": 54,
   "id": "3b5b75f7",
   "metadata": {},
   "outputs": [
    {
     "name": "stdout",
     "output_type": "stream",
     "text": [
      "update      <Response [204]>\n"
     ]
    }
   ],
   "source": [
    "# API arra, hogy csináljon egy Git Pull-t majd újraindítom\n",
    "resp = requests.get(worker_address + '/update')\n",
    "print('update     ', resp)\n"
   ]
  },
  {
   "cell_type": "code",
   "execution_count": null,
   "id": "c1c7d871",
   "metadata": {},
   "outputs": [],
   "source": []
  }
 ],
 "metadata": {
  "kernelspec": {
   "display_name": "Python 3 (ipykernel)",
   "language": "python",
   "name": "python3"
  },
  "language_info": {
   "codemirror_mode": {
    "name": "ipython",
    "version": 3
   },
   "file_extension": ".py",
   "mimetype": "text/x-python",
   "name": "python",
   "nbconvert_exporter": "python",
   "pygments_lexer": "ipython3",
   "version": "3.8.10"
  }
 },
 "nbformat": 4,
 "nbformat_minor": 5
}
