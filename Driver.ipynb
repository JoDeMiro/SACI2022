{
 "cells": [
  {
   "cell_type": "code",
   "execution_count": 677,
   "id": "01581704",
   "metadata": {},
   "outputs": [
    {
     "name": "stdout",
     "output_type": "stream",
     "text": [
      "(970, 21)\n",
      "(970,)\n",
      "driver_ip=http://192.168.0.114:8080&worker_id=234&nRowsRead=9999&window=21&threshold=-1.0\n",
      "setup       <Response [200]>\n",
      "initialize  <Response [200]>\n",
      "uploader    <Response [200]>\n",
      "{'file': <_io.BufferedReader name='model.joblib'>, 'model_id': '99999'}\n",
      "{'id': '99999'}\n",
      "testpoint   <Response [200]>\n"
     ]
    }
   ],
   "source": [
    "# Driver\n",
    "\n",
    "# Küldjünk valami csomagot a workernek\n",
    "\n",
    "import numpy as np\n",
    "import requests\n",
    "import codecs\n",
    "import pickle\n",
    "import joblib\n",
    "import json\n",
    "import time\n",
    "import os\n",
    "import matplotlib.pyplot as plt\n",
    "from warnings import simplefilter\n",
    "from sklearn import datasets\n",
    "from sklearn.neural_network import MLPRegressor\n",
    "from sklearn.exceptions import ConvergenceWarning\n",
    "simplefilter(\"ignore\", category=ConvergenceWarning)\n",
    "\n",
    "# beállítunk néhány paraméter ami amit később használunk\n",
    "# ezeket az értékeket sajnos a Driver oldalon is ki kell számolnunk, ha úgy csináljuk, hogy a modelt küldjük át\n",
    "# fontos, hogy számos paraméter szinkronizálva legyen, különben ami model itt előáll az a Worker oldalon eltörik\n",
    "arch = (2,2)                                # <-- nn(arch)\n",
    "window = 21                                 # <-- bementi változók száma\n",
    "nRowsRead = 9999                            # <-- ez lehet alapján csinálunk modelt, de lehet más is mint odaát\n",
    "threshold = -1.0                            # <-- a trader parametére\n",
    "\n",
    "# elő kell állítani a túloldali adatsorral azonos szart np.[970, 20] és np[970]\n",
    "x_train = np.ones((970, window))\n",
    "y_train = np.zeros(970)\n",
    "print(x_train.shape)\n",
    "print(y_train.shape)\n",
    "clf = MLPRegressor(hidden_layer_sizes=arch, max_iter=3, shuffle=False, activation='tanh', random_state=1)\n",
    "clf.fit(x_train, y_train)\n",
    "\n",
    "# ---------------------------------------------------------------------------\n",
    "# Ugyan ez a Joblib használatával (ez valami filét is csiál rendesen a diskre)\n",
    "# from joblib import dump, load\n",
    "joblib.dump(clf, 'model.joblib')         # <-- elmenjük\n",
    "clf = joblib.load('model.joblib')        # <-- betöltjük\n",
    "\n",
    "# ---------------------------------------------------------------------------\n",
    "# nem a pickle-t használom, hanem a joblibet, de itt hagyom\n",
    "# s = pickle.dumps(clf)     # <-- csinálunk belőe bytot\n",
    "# print(type(s))            # <-- ez byte valahogy biztosan át lehet küldeni.\n",
    "# clf = pickle.loads(s)    # <-- betöltjük\n",
    "# clf.predict(x_train)\n",
    "\n",
    "\n",
    "# ---------------------------------------------------------------------------\n",
    "\n",
    "\n",
    "# ---------------------------------------------------------------------------\n",
    "\n",
    "\n",
    "# Valamiért újra indítás után nem müködnek de futnak a workeren mégis kill ---> újrainditás kellett terminálból\n",
    "# worker_address = 'http://192.168.0.54:8080'\n",
    "# worker_address = 'http://192.168.0.32:8080'\n",
    "worker_address = 'http://192.168.0.247:8080'\n",
    "driver_ip = 'http://192.168.0.114:8080'\n",
    "worker_id = 234\n",
    "\n",
    "\n",
    "\n",
    "# ---------------------------------------------------------------------------\n",
    "\n",
    "\n",
    "# Setuppolni kell a paramétereket\n",
    "# request_params = 'worker_id=' + (str)(worker_id) + '&nRowsRead=' + (str)(nRowsRead) + '&' + 'window=' + (str)(window) + '&' + 'threshold=' + (str)(threshold)\n",
    "\n",
    "request_params = 'driver_ip=' + (str)(driver_ip) + '&worker_id=' + (str)(worker_id) + '&nRowsRead=' + (str)(nRowsRead) + '&' + 'window=' + (str)(window) + '&' + 'threshold=' + (str)(threshold)\n",
    "\n",
    "print(request_params)\n",
    "# resp = requests.get('http://192.168.0.247:8080/setup?nRowsRead=2998&window=20&threshold=-1000')\n",
    "# resp = requests.get('http://192.168.0.247:8080/setup?' + request_params)\n",
    "resp = requests.get(worker_address + '/setup?' + request_params)\n",
    "print('setup      ', resp)\n",
    "\n",
    "# Ezzel simán meghívjuk a Worker INITIALIZE REST API Végpontját\n",
    "resp = requests.get(worker_address + '/initilaize')\n",
    "print('initialize ', resp)\n",
    "\n",
    "# Ezzel a módszerrel lehet átküldeni neki a joblib model filét\n",
    "uploadResultUrl = worker_address + '/uploader'\n",
    "filePath = \"model.joblib\"\n",
    "fileFp = open(filePath, 'rb')\n",
    "fileInfoDict = {\n",
    "    \"file\": fileFp,\n",
    "    \"model_id\": '99999',                                    # <-- dummy értéket kap\n",
    "}\n",
    "metaInfoDict = {'id': '99999'}\n",
    "resp = requests.post(uploadResultUrl, files=fileInfoDict, json=metaInfoDict)\n",
    "print('uploader   ', resp)                                # <-- ez nagyon jó ha <Response [200]> mert akkor átment a file\n",
    "print(fileInfoDict)\n",
    "print(metaInfoDict)\n",
    "\n",
    "# Átküldök egy értéket a Workernek\n",
    "resp = requests.get(worker_address + '/testpoint?value=123456789')\n",
    "print('testpoint  ', resp)\n"
   ]
  },
  {
   "cell_type": "code",
   "execution_count": 678,
   "id": "cd429ace",
   "metadata": {},
   "outputs": [
    {
     "name": "stdout",
     "output_type": "stream",
     "text": [
      "0 testpoint   <Response [200]>\n",
      "1 testpoint   <Response [200]>\n",
      "2 testpoint   <Response [200]>\n",
      "3 testpoint   <Response [200]>\n",
      "4 testpoint   <Response [200]>\n"
     ]
    }
   ],
   "source": [
    "# Terhelés, testpoint REST API-t\n",
    "milliseconds = 100\n",
    "wait = 0.001 * milliseconds\n",
    "\n",
    "for i in range(5):\n",
    "    time.sleep(wait)\n",
    "    # Átküldök egy értéket a Workernek\n",
    "    value = (str)(i*123456)\n",
    "    resp = requests.get(worker_address + '/testpoint?value=' + value)\n",
    "    print(i, 'testpoint  ', resp)"
   ]
  },
  {
   "cell_type": "code",
   "execution_count": 679,
   "id": "fd3fc60b",
   "metadata": {},
   "outputs": [
    {
     "name": "stdout",
     "output_type": "stream",
     "text": [
      "0 uploader    <Response [200]>\n",
      "1 uploader    <Response [200]>\n",
      "2 uploader    <Response [200]>\n",
      "3 uploader    <Response [200]>\n",
      "4 uploader    <Response [200]>\n"
     ]
    }
   ],
   "source": [
    "# Terhelés, küldjük el többször csak a modell, hívjuk az upload REST API-t\n",
    "milliseconds = 100\n",
    "wait = 0.001 * milliseconds\n",
    "\n",
    "for i in range(5):\n",
    "    time.sleep(wait)\n",
    "    # Ezzel a módszerrel lehet átküldeni neki a joblib model filét\n",
    "    uploadResultUrl = worker_address + '/uploader'\n",
    "    filePath = \"model.joblib\"\n",
    "    fileFp = open(filePath, 'rb')\n",
    "    fileInfoDict = {\n",
    "        \"file\": fileFp,\n",
    "        \"model_id\": 99999,                                    # <-- dummy értéket kap\n",
    "    }\n",
    "    resp = requests.post(uploadResultUrl, files=fileInfoDict)\n",
    "    print(i, 'uploader   ', resp)"
   ]
  },
  {
   "cell_type": "code",
   "execution_count": 680,
   "id": "3b5b75f7",
   "metadata": {},
   "outputs": [],
   "source": [
    "# API arra, hogy csináljon egy Git Pull-t majd újraindítom\n",
    "# resp = requests.get(worker_address + '/update')\n",
    "# print('update     ', resp)\n"
   ]
  },
  {
   "cell_type": "markdown",
   "id": "ab5b0975",
   "metadata": {},
   "source": [
    "## Most a helyi Driver Flask programhoz írok megszolítókat\n",
    "\n",
    "Fontos az egyes lépések sorrendje."
   ]
  },
  {
   "cell_type": "code",
   "execution_count": 681,
   "id": "45050e81",
   "metadata": {},
   "outputs": [
    {
     "name": "stdout",
     "output_type": "stream",
     "text": [
      "testpoint   <Response [200]>\n"
     ]
    }
   ],
   "source": [
    "\n",
    "driver_address = 'http://192.168.0.114:8080'\n",
    "\n",
    "\n",
    "# Átküldök egy értéket a Drivernek\n",
    "resp = requests.get(driver_address + '/testpoint?value=987654321')\n",
    "print('testpoint  ', resp)\n",
    "\n"
   ]
  },
  {
   "cell_type": "code",
   "execution_count": 682,
   "id": "b5b87820",
   "metadata": {},
   "outputs": [
    {
     "name": "stdout",
     "output_type": "stream",
     "text": [
      "calltestpoint   <Response [200]>\n"
     ]
    }
   ],
   "source": [
    "\n",
    "# A Driver hívja a Workerek testpoint API-t\n",
    "resp = requests.get(driver_address + '/calltestpoint')\n",
    "print('calltestpoint  ', resp)\n"
   ]
  },
  {
   "cell_type": "code",
   "execution_count": 742,
   "id": "ac833919",
   "metadata": {},
   "outputs": [
    {
     "name": "stdout",
     "output_type": "stream",
     "text": [
      "generation=5000&factor=10&dummy=11\n",
      "setup          <Response [200]>\n"
     ]
    }
   ],
   "source": [
    "\n",
    "generation = 5000      # 300\n",
    "factor     = 10\n",
    "dummy      = 11\n",
    "\n",
    "# A Driver setupja\n",
    "request_params = 'generation=' + (str)(generation) + '&' + 'factor=' + (str)(factor) + '&' + 'dummy=' + (str)(dummy)\n",
    "print(request_params)\n",
    "resp = requests.get(driver_address + '/setup?' + request_params)\n",
    "print('setup         ', resp)\n"
   ]
  },
  {
   "cell_type": "code",
   "execution_count": 743,
   "id": "91811883",
   "metadata": {},
   "outputs": [
    {
     "name": "stdout",
     "output_type": "stream",
     "text": [
      "initilaize      <Response [200]>\n"
     ]
    }
   ],
   "source": [
    "\n",
    "# A Driver inicializációja (itt áll elő egy csomó belső változó amit később használok)\n",
    "\n",
    "_nRowsRead = 90000\n",
    "\n",
    "request_params = '_nRowsRead=' + (str)(_nRowsRead)\n",
    "resp = requests.get(driver_address + '/initilaize?' + request_params)\n",
    "print('initilaize     ', resp)\n"
   ]
  },
  {
   "cell_type": "code",
   "execution_count": 744,
   "id": "777556bc",
   "metadata": {},
   "outputs": [
    {
     "name": "stdout",
     "output_type": "stream",
     "text": [
      "setupworkers    <Response [200]>\n"
     ]
    }
   ],
   "source": [
    "\n",
    "# A workerek setupja\n",
    "resp = requests.get(driver_address + '/setupworkers')\n",
    "print('setupworkers   ', resp)\n"
   ]
  },
  {
   "cell_type": "code",
   "execution_count": 745,
   "id": "3c403ae3",
   "metadata": {},
   "outputs": [
    {
     "name": "stdout",
     "output_type": "stream",
     "text": [
      "initializeworkers  <Response [200]>\n",
      "('[OK] worker', 'http://192.168.0.54:8080/', 'setup', 200)('[OK] worker', 'http://192.168.0.32:8080/', 'setup', 200)('[OK] worker', 'http://192.168.0.247:8080/', 'setup', 200)\n"
     ]
    }
   ],
   "source": [
    "\n",
    "# A workerek inicializációja\n",
    "resp = requests.get(driver_address + '/initializeworkers')\n",
    "print('initializeworkers ', resp)\n",
    "print(resp.text)\n"
   ]
  },
  {
   "cell_type": "code",
   "execution_count": 746,
   "id": "6b290bfc",
   "metadata": {},
   "outputs": [],
   "source": [
    "\n",
    "# Most azt kell tesztelnem, hogy a Workerek miután kiértékelték az eredményt\n",
    "# visszaküldik-e a Drivernek\n",
    "# és az fogadja-e?\n"
   ]
  },
  {
   "cell_type": "code",
   "execution_count": 747,
   "id": "8bd533d7",
   "metadata": {},
   "outputs": [
    {
     "name": "stdout",
     "output_type": "stream",
     "text": [
      "testworkerscalc    <Response [200]>\n"
     ]
    }
   ],
   "source": [
    "\n",
    "# Teszt csomag küldés a Workereknek, hogy kiszámolják-e amit ki kell\n",
    "resp = requests.get(driver_address + '/testworkerscalc')\n",
    "print('testworkerscalc   ', resp)\n"
   ]
  },
  {
   "cell_type": "code",
   "execution_count": 748,
   "id": "a6708449",
   "metadata": {},
   "outputs": [],
   "source": [
    "\n",
    "# Terhelés teszt törölhető lesz\n",
    "milliseconds = 100\n",
    "wait = 0.001 * milliseconds\n",
    "time.sleep(1)\n",
    "\n",
    "# for i in range(5):\n",
    "#     time.sleep(wait)\n",
    "    # Ez a végpont az összes workernek elküldi ugyan azt a modelt\n",
    "#     resp = requests.get(driver_address + '/testworkerscalc')\n",
    "#     print('testworkerscalc   ', resp)\n",
    "    "
   ]
  },
  {
   "cell_type": "code",
   "execution_count": 749,
   "id": "1af06d90",
   "metadata": {},
   "outputs": [],
   "source": [
    "# Visszakapja az adatokat\n",
    "# most akkor a drivert kell egy picit masziroznom,\n",
    "# főként a mutátor logikát\n",
    "# A testcalc API-t hagyom, az jó arra, hogy teszteljük, hogy valóban minden Worker ugyan azt az eredményt adja-e vissza,\n",
    "# ha azonos modelt kapnak.\n",
    "\n",
    "# Csinálni kell egy új apit, mondjuk 'eval', ami csinál egy modelt, randomizálja, visszakapja az eredményt és kiválasztja\n",
    "\n",
    "\n",
    "# Vigyázni kell,\n",
    "# Az elöző cellából visszamaradt és a háttérben még futó számítások nem kívánt beküldéseket eredményezhetnek a következő\n",
    "# cella futásában, ezért meg kell gyöződni arról, hogy minden korábbi futás válasza beérkezett-e és csak utána indítani\n",
    "# a következő cellát.\n",
    "\n",
    "# Meg kell várni míg minden korábbi lefutott és bevárni a válaszokat mert ez jelenleg még okozhat hibát (bug)\n",
    "# dolgozom rajta (ToDo)"
   ]
  },
  {
   "cell_type": "code",
   "execution_count": 750,
   "id": "8f702260",
   "metadata": {},
   "outputs": [
    {
     "name": "stdout",
     "output_type": "stream",
     "text": [
      "evolution       <Response [200]>\n",
      "<class 'requests.models.Response'>\n"
     ]
    }
   ],
   "source": [
    "\n",
    "# Meg kell várni míg minden korábbi lefutott és bevárni a válaszokat mert ez jelenleg még okozhat hibát (bug)\n",
    "# dolgozom rajta (ToDo)\n",
    "\n",
    "\n",
    "# Dev2\n",
    "resp = requests.get(driver_address + '/evolution2')\n",
    "print('evolution      ', resp)\n",
    "print(type(resp))\n",
    "\n"
   ]
  },
  {
   "cell_type": "code",
   "execution_count": 726,
   "id": "237a3c30",
   "metadata": {},
   "outputs": [
    {
     "name": "stdout",
     "output_type": "stream",
     "text": [
      "\u001b[48;5;236m\u001b[38;5;231mStack \u001b[38;5;208mAbuse\u001b[0;0m\n"
     ]
    }
   ],
   "source": [
    "print(\"\\033[48;5;236m\\033[38;5;231mStack \\033[38;5;208mAbuse\\033[0;0m\")"
   ]
  },
  {
   "cell_type": "code",
   "execution_count": 739,
   "id": "e71eee62",
   "metadata": {},
   "outputs": [],
   "source": [
    "# resp.json()"
   ]
  },
  {
   "cell_type": "code",
   "execution_count": 751,
   "id": "cfe837e4",
   "metadata": {},
   "outputs": [],
   "source": [
    "lst = resp.json()\n",
    "generation_best_score = [float(i) for i in lst]        # <-- list(str) -> list(float)"
   ]
  },
  {
   "cell_type": "code",
   "execution_count": 752,
   "id": "77f4ecf3",
   "metadata": {},
   "outputs": [
    {
     "data": {
      "image/png": "[encoded data removed]",
      "text/plain": [
       "<Figure size 432x288 with 1 Axes>"
      ]
     },
     "metadata": {
      "needs_background": "light"
     },
     "output_type": "display_data"
    }
   ],
   "source": [
    "plt.plot(generation_best_score)\n",
    "plt.show()"
   ]
  },
  {
   "cell_type": "code",
   "execution_count": 741,
   "id": "3925410b",
   "metadata": {
    "scrolled": true
   },
   "outputs": [
    {
     "data": {
      "image/png": "[encoded data removed]",
      "text/plain": [
       "<Figure size 432x288 with 1 Axes>"
      ]
     },
     "metadata": {
      "needs_background": "light"
     },
     "output_type": "display_data"
    }
   ],
   "source": [
    "plt.plot(generation_best_score)\n",
    "plt.show()"
   ]
  },
  {
   "cell_type": "code",
   "execution_count": 729,
   "id": "01ed31bc",
   "metadata": {
    "scrolled": false
   },
   "outputs": [
    {
     "data": {
      "image/png": "[encoded data removed]",
      "text/plain": [
       "<Figure size 432x288 with 1 Axes>"
      ]
     },
     "metadata": {
      "needs_background": "light"
     },
     "output_type": "display_data"
    }
   ],
   "source": [
    "plt.plot(generation_best_score)\n",
    "plt.show()"
   ]
  },
  {
   "cell_type": "code",
   "execution_count": 754,
   "id": "083037e3",
   "metadata": {},
   "outputs": [
    {
     "name": "stdout",
     "output_type": "stream",
     "text": [
      "tmp          <Response [404]>\n",
      "<class 'requests.models.Response'>\n",
      "<!DOCTYPE HTML PUBLIC \"-//W3C//DTD HTML 3.2 Final//EN\">\n",
      "<title>404 Not Found</title>\n",
      "<h1>Not Found</h1>\n",
      "<p>The requested URL was not found on the server. If you entered the URL manually please check your spelling and try again.</p>\n",
      "\n"
     ]
    }
   ],
   "source": [
    "# Egy JSON-t akarok visszakapni, ezért csináltam rá egy API-t\n",
    "resp = requests.get(driver_address + '/tmp')\n",
    "print('tmp         ', resp)\n",
    "print(type(resp))\n",
    "print(resp.text)"
   ]
  },
  {
   "cell_type": "code",
   "execution_count": null,
   "id": "0e7df430",
   "metadata": {},
   "outputs": [],
   "source": []
  }
 ],
 "metadata": {
  "kernelspec": {
   "display_name": "Python 3 (ipykernel)",
   "language": "python",
   "name": "python3"
  },
  "language_info": {
   "codemirror_mode": {
    "name": "ipython",
    "version": 3
   },
   "file_extension": ".py",
   "mimetype": "text/x-python",
   "name": "python",
   "nbconvert_exporter": "python",
   "pygments_lexer": "ipython3",
   "version": "3.8.10"
  }
 },
 "nbformat": 4,
 "nbformat_minor": 5
}
