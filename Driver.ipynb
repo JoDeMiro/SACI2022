{
 "cells": [
  {
   "cell_type": "code",
   "execution_count": 2,
   "id": "01581704",
   "metadata": {},
   "outputs": [
    {
     "name": "stdout",
     "output_type": "stream",
     "text": [
      "(970, 20)\n",
      "(970,)\n",
      "[[1, 2, 3], [4, 5, 6]]\n",
      "<Response [200]>\n",
      "<Response [404]>\n",
      "setup       <Response [200]>\n",
      "initialize  <Response [200]>\n",
      "uploader    <Response [200]>\n",
      "testpoint   <Response [200]>\n"
     ]
    }
   ],
   "source": [
    "# Driver\n",
    "\n",
    "# Küldjünk valami csomagot a workernek\n",
    "\n",
    "import numpy as np\n",
    "import requests\n",
    "import codecs\n",
    "import pickle\n",
    "import joblib\n",
    "import json\n",
    "import os\n",
    "from warnings import simplefilter\n",
    "from sklearn import datasets\n",
    "from sklearn.neural_network import MLPRegressor\n",
    "from sklearn.exceptions import ConvergenceWarning\n",
    "simplefilter(\"ignore\", category=ConvergenceWarning)\n",
    "\n",
    "# beállítunk néhány paraméter ami amit később használunk\n",
    "# ezeket az értékeket sajnos a Driver oldalon is ki kell számolnunk, ha úgy csináljuk, hogy a modelt küldjük át\n",
    "# fontos, hogy számos paraméter szinkronizálva legyen, különben ami model itt előáll az a Worker oldalon eltörik\n",
    "arch = (2,2)                                # <-- nn(arch)\n",
    "window = 20                                 # <-- bementi változók száma\n",
    "nRowsRead = 3000                            # <-- ez lehet alapján csinálunk modelt, de lehet más is mint odaát\n",
    "\n",
    "# elő kell állítani a túloldali adatsorral azonos szart np.[970, 20] és np[970]\n",
    "x_train = np.ones((970, window))\n",
    "y_train = np.zeros(970)\n",
    "print(x_train.shape)\n",
    "print(y_train.shape)\n",
    "clf = MLPRegressor(hidden_layer_sizes=arch, max_iter=3, shuffle=False, activation='tanh')\n",
    "clf.fit(x_train, y_train)\n",
    "\n",
    "# ---------------------------------------------------------------------------\n",
    "# Ugyan ez a Joblib használatával (ez valami filét is csiál rendesen a diskre)\n",
    "# from joblib import dump, load\n",
    "joblib.dump(clf, 'model.joblib')         # <-- elmenjük\n",
    "clf = joblib.load('model.joblib')        # <-- betöltjük\n",
    "\n",
    "# ---------------------------------------------------------------------------\n",
    "# nem a pickle-t használom, hanem a joblibet, de itt hagyom\n",
    "# s = pickle.dumps(clf)     # <-- csinálunk belőe bytot\n",
    "# print(type(s))            # <-- ez byte valahogy biztosan át lehet küldeni.\n",
    "# clf = pickle.loads(s)    # <-- betöltjük\n",
    "# clf.predict(x_train)\n",
    "\n",
    "\n",
    "# ---------------------------------------------------------------------------\n",
    "\n",
    "\n",
    "\n",
    "\n",
    "\n",
    "\n",
    "\n",
    "\n",
    "\n",
    "\n",
    "\n",
    "\n",
    "\n",
    "\n",
    "# -----------------------------------\n",
    "a = np.array([[1,2,3],[4,5,6]])\n",
    "lists = a.tolist()\n",
    "data = json.dumps(lists)\n",
    "print(data)\n",
    "\n",
    "# Ezek majd mennek a kukába\n",
    "# -----------------------------------\n",
    "\n",
    "worker_ip = '192.168.0.247'\n",
    "\n",
    "\n",
    "# Egyik módszer\n",
    "data_json = json.dumps(lists)\n",
    "payload = {'json_payload': data_json, 'host': '1', 'individual': '1'}\n",
    "r = requests.get('http://192.168.0.247:8080', data=payload)\n",
    "print(r)\n",
    "\n",
    "# Másik módszer\n",
    "r = requests.post('http://192.168.0.247:8080/model', json={\"temperature\": \"24.3\"})\n",
    "print(r)\n",
    "# 405 mert még nincs rajta a post request a workeren\n",
    "\n",
    "\n",
    "# ---------------------------------------------------------------------------\n",
    "\n",
    "\n",
    "# Setuppolni kell a paramétereket\n",
    "resp = requests.get('http://192.168.0.247:8080/setup')\n",
    "print('setup      ', resp)\n",
    "\n",
    "# Ezzel simán meghívjuk a Worker INITIALIZE REST API Végpontját\n",
    "resp = requests.get('http://192.168.0.247:8080/initilaize')\n",
    "print('initialize ', resp)\n",
    "\n",
    "# Ezzel a módszerrel lehet átküldeni neki a joblib model filét\n",
    "uploadResultUrl = 'http://192.168.0.247:8080/uploader'\n",
    "filePath = \"model.joblib\"\n",
    "fileFp = open(filePath, 'rb')\n",
    "fileInfoDict = {\n",
    "    \"file\": fileFp,\n",
    "}\n",
    "resp = requests.post(uploadResultUrl, files=fileInfoDict)\n",
    "print('uploader   ', resp)                                # <-- ez nagyon jó ha <Response [200]> mert akkor átment a file\n",
    "\n",
    "\n",
    "# Átküldök egy értéket a Workernek\n",
    "resp = requests.get('http://192.168.0.247:8080/testpoint?value=123456789')\n",
    "print('testpoint  ', resp)\n"
   ]
  },
  {
   "cell_type": "code",
   "execution_count": 46,
   "id": "f679e192",
   "metadata": {},
   "outputs": [
    {
     "name": "stdout",
     "output_type": "stream",
     "text": [
      "{'a': 10, 'bac': 20.0}\n"
     ]
    },
    {
     "data": {
      "text/plain": [
       "10"
      ]
     },
     "execution_count": 46,
     "metadata": {},
     "output_type": "execute_result"
    }
   ],
   "source": [
    "diki = {'a': 10, 'bac': 20.0}\n",
    "\n",
    "print(diki)\n",
    "\n",
    "diki.keys()\n",
    "diki.get('a')"
   ]
  },
  {
   "cell_type": "code",
   "execution_count": null,
   "id": "a2709ca7",
   "metadata": {},
   "outputs": [],
   "source": []
  }
 ],
 "metadata": {
  "kernelspec": {
   "display_name": "Python 3 (ipykernel)",
   "language": "python",
   "name": "python3"
  },
  "language_info": {
   "codemirror_mode": {
    "name": "ipython",
    "version": 3
   },
   "file_extension": ".py",
   "mimetype": "text/x-python",
   "name": "python",
   "nbconvert_exporter": "python",
   "pygments_lexer": "ipython3",
   "version": "3.8.10"
  }
 },
 "nbformat": 4,
 "nbformat_minor": 5
}
