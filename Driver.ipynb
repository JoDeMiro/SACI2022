{
 "cells": [
  {
   "cell_type": "code",
   "execution_count": 56,
   "id": "01581704",
   "metadata": {},
   "outputs": [
    {
     "name": "stdout",
     "output_type": "stream",
     "text": [
      "[[1, 2, 3], [4, 5, 6]]\n",
      "<Response [200]>\n",
      "<Response [404]>\n",
      "<class 'bytes'>\n",
      "<Response [200]>\n"
     ]
    }
   ],
   "source": [
    "# Driver\n",
    "\n",
    "# Küldjünk valami csomagot a workernek\n",
    "\n",
    "import numpy as np\n",
    "import requests\n",
    "import codecs\n",
    "import pickle\n",
    "import joblib\n",
    "import json\n",
    "import os\n",
    "\n",
    "a = np.array([[1,2,3],[4,5,6]])\n",
    "lists = a.tolist()\n",
    "data = json.dumps(lists)\n",
    "print(data)\n",
    "\n",
    "worker_ip = '192.168.0.247'\n",
    "\n",
    "\n",
    "# Egyik módszer\n",
    "data_json = json.dumps(lists)\n",
    "payload = {'json_payload': data_json, 'host': '1', 'individual': '1'}\n",
    "r = requests.get('http://192.168.0.247:8080', data=payload)\n",
    "print(r)\n",
    "\n",
    "# Másik módszer\n",
    "r = requests.post('http://192.168.0.247:8080/model', json={\"temperature\": \"24.3\"})\n",
    "print(r)\n",
    "# 405 mert még nincs rajta a post request a workeren\n",
    "\n",
    "# Lehet hagyni kéne ezt a JSON szart és Pickle módon fájlt csinálni és azt átküldni neki\n",
    "from sklearn import datasets\n",
    "from sklearn.neural_network import MLPRegressor\n",
    "\n",
    "\n",
    "clf = MLPRegressor()\n",
    "X, y= datasets.load_iris(return_X_y=True)\n",
    "clf.fit(X, y)\n",
    "s = pickle.dumps(clf)     # <-- csinálunk belőe bytot\n",
    "print(type(s))            # <-- ez byte valahogy biztosan át lehet küldeni.\n",
    "clf2 = pickle.loads(s)    # <-- betöltjük\n",
    "clf2.predict(X[0:1])\n",
    "\n",
    "# Ugyan ez a Joblib használatával (ez valami filét is csiál rendesen a diskre)\n",
    "from joblib import dump, load\n",
    "dump(clf, 'model.joblib')         # <-- elmenjük\n",
    "clf = load('model.joblib')        # <-- betöltjük\n",
    "\n",
    "\n",
    "\n",
    "\n",
    "\n",
    "\n",
    "# Ezzel a módszerrel lehet átküldeni neki a filét\n",
    "uploadResultUrl = 'http://192.168.0.247:8080/uploader'\n",
    "filePath = \"model.joblib\"\n",
    "fileFp = open(filePath, 'rb')\n",
    "fileInfoDict = {\n",
    "    \"file\": fileFp,\n",
    "}\n",
    "resp = requests.post(uploadResultUrl, files=fileInfoDict)\n",
    "print(resp)\n",
    "\n",
    "\n",
    "\n",
    "\n"
   ]
  },
  {
   "cell_type": "code",
   "execution_count": null,
   "id": "f679e192",
   "metadata": {},
   "outputs": [],
   "source": []
  }
 ],
 "metadata": {
  "kernelspec": {
   "display_name": "Python 3 (ipykernel)",
   "language": "python",
   "name": "python3"
  },
  "language_info": {
   "codemirror_mode": {
    "name": "ipython",
    "version": 3
   },
   "file_extension": ".py",
   "mimetype": "text/x-python",
   "name": "python",
   "nbconvert_exporter": "python",
   "pygments_lexer": "ipython3",
   "version": "3.8.10"
  }
 },
 "nbformat": 4,
 "nbformat_minor": 5
}
