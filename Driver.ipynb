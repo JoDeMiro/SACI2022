{
 "cells": [
  {
   "cell_type": "code",
   "execution_count": 677,
   "id": "01581704",
   "metadata": {},
   "outputs": [
    {
     "name": "stdout",
     "output_type": "stream",
     "text": [
      "(970, 21)\n",
      "(970,)\n",
      "driver_ip=http://192.168.0.114:8080&worker_id=234&nRowsRead=9999&window=21&threshold=-1.0\n",
      "setup       <Response [200]>\n",
      "initialize  <Response [200]>\n",
      "uploader    <Response [200]>\n",
      "{'file': <_io.BufferedReader name='model.joblib'>, 'model_id': '99999'}\n",
      "{'id': '99999'}\n",
      "testpoint   <Response [200]>\n"
     ]
    }
   ],
   "source": [
    "# Driver\n",
    "\n",
    "# Küldjünk valami csomagot a workernek\n",
    "\n",
    "import numpy as np\n",
    "import requests\n",
    "import codecs\n",
    "import pickle\n",
    "import joblib\n",
    "import json\n",
    "import time\n",
    "import os\n",
    "import matplotlib.pyplot as plt\n",
    "from warnings import simplefilter\n",
    "from sklearn import datasets\n",
    "from sklearn.neural_network import MLPRegressor\n",
    "from sklearn.exceptions import ConvergenceWarning\n",
    "simplefilter(\"ignore\", category=ConvergenceWarning)\n",
    "\n",
    "# beállítunk néhány paraméter ami amit később használunk\n",
    "# ezeket az értékeket sajnos a Driver oldalon is ki kell számolnunk, ha úgy csináljuk, hogy a modelt küldjük át\n",
    "# fontos, hogy számos paraméter szinkronizálva legyen, különben ami model itt előáll az a Worker oldalon eltörik\n",
    "arch = (2,2)                                # <-- nn(arch)\n",
    "window = 21                                 # <-- bementi változók száma\n",
    "nRowsRead = 9999                            # <-- ez lehet alapján csinálunk modelt, de lehet más is mint odaát\n",
    "threshold = -1.0                            # <-- a trader parametére\n",
    "\n",
    "# elő kell állítani a túloldali adatsorral azonos szart np.[970, 20] és np[970]\n",
    "x_train = np.ones((970, window))\n",
    "y_train = np.zeros(970)\n",
    "print(x_train.shape)\n",
    "print(y_train.shape)\n",
    "clf = MLPRegressor(hidden_layer_sizes=arch, max_iter=3, shuffle=False, activation='tanh', random_state=1)\n",
    "clf.fit(x_train, y_train)\n",
    "\n",
    "# ---------------------------------------------------------------------------\n",
    "# Ugyan ez a Joblib használatával (ez valami filét is csiál rendesen a diskre)\n",
    "# from joblib import dump, load\n",
    "joblib.dump(clf, 'model.joblib')         # <-- elmenjük\n",
    "clf = joblib.load('model.joblib')        # <-- betöltjük\n",
    "\n",
    "# ---------------------------------------------------------------------------\n",
    "# nem a pickle-t használom, hanem a joblibet, de itt hagyom\n",
    "# s = pickle.dumps(clf)     # <-- csinálunk belőe bytot\n",
    "# print(type(s))            # <-- ez byte valahogy biztosan át lehet küldeni.\n",
    "# clf = pickle.loads(s)    # <-- betöltjük\n",
    "# clf.predict(x_train)\n",
    "\n",
    "\n",
    "# ---------------------------------------------------------------------------\n",
    "\n",
    "\n",
    "# ---------------------------------------------------------------------------\n",
    "\n",
    "\n",
    "# Valamiért újra indítás után nem müködnek de futnak a workeren mégis kill ---> újrainditás kellett terminálból\n",
    "# worker_address = 'http://192.168.0.54:8080'\n",
    "# worker_address = 'http://192.168.0.32:8080'\n",
    "worker_address = 'http://192.168.0.247:8080'\n",
    "driver_ip = 'http://192.168.0.114:8080'\n",
    "worker_id = 234\n",
    "\n",
    "\n",
    "\n",
    "# ---------------------------------------------------------------------------\n",
    "\n",
    "\n",
    "# Setuppolni kell a paramétereket\n",
    "# request_params = 'worker_id=' + (str)(worker_id) + '&nRowsRead=' + (str)(nRowsRead) + '&' + 'window=' + (str)(window) + '&' + 'threshold=' + (str)(threshold)\n",
    "\n",
    "request_params = 'driver_ip=' + (str)(driver_ip) + '&worker_id=' + (str)(worker_id) + '&nRowsRead=' + (str)(nRowsRead) + '&' + 'window=' + (str)(window) + '&' + 'threshold=' + (str)(threshold)\n",
    "\n",
    "print(request_params)\n",
    "# resp = requests.get('http://192.168.0.247:8080/setup?nRowsRead=2998&window=20&threshold=-1000')\n",
    "# resp = requests.get('http://192.168.0.247:8080/setup?' + request_params)\n",
    "resp = requests.get(worker_address + '/setup?' + request_params)\n",
    "print('setup      ', resp)\n",
    "\n",
    "# Ezzel simán meghívjuk a Worker INITIALIZE REST API Végpontját\n",
    "resp = requests.get(worker_address + '/initilaize')\n",
    "print('initialize ', resp)\n",
    "\n",
    "# Ezzel a módszerrel lehet átküldeni neki a joblib model filét\n",
    "uploadResultUrl = worker_address + '/uploader'\n",
    "filePath = \"model.joblib\"\n",
    "fileFp = open(filePath, 'rb')\n",
    "fileInfoDict = {\n",
    "    \"file\": fileFp,\n",
    "    \"model_id\": '99999',                                    # <-- dummy értéket kap\n",
    "}\n",
    "metaInfoDict = {'id': '99999'}\n",
    "resp = requests.post(uploadResultUrl, files=fileInfoDict, json=metaInfoDict)\n",
    "print('uploader   ', resp)                                # <-- ez nagyon jó ha <Response [200]> mert akkor átment a file\n",
    "print(fileInfoDict)\n",
    "print(metaInfoDict)\n",
    "\n",
    "# Átküldök egy értéket a Workernek\n",
    "resp = requests.get(worker_address + '/testpoint?value=123456789')\n",
    "print('testpoint  ', resp)\n"
   ]
  },
  {
   "cell_type": "code",
   "execution_count": 678,
   "id": "cd429ace",
   "metadata": {},
   "outputs": [
    {
     "name": "stdout",
     "output_type": "stream",
     "text": [
      "0 testpoint   <Response [200]>\n",
      "1 testpoint   <Response [200]>\n",
      "2 testpoint   <Response [200]>\n",
      "3 testpoint   <Response [200]>\n",
      "4 testpoint   <Response [200]>\n"
     ]
    }
   ],
   "source": [
    "# Terhelés, testpoint REST API-t\n",
    "milliseconds = 100\n",
    "wait = 0.001 * milliseconds\n",
    "\n",
    "for i in range(5):\n",
    "    time.sleep(wait)\n",
    "    # Átküldök egy értéket a Workernek\n",
    "    value = (str)(i*123456)\n",
    "    resp = requests.get(worker_address + '/testpoint?value=' + value)\n",
    "    print(i, 'testpoint  ', resp)"
   ]
  },
  {
   "cell_type": "code",
   "execution_count": 679,
   "id": "fd3fc60b",
   "metadata": {},
   "outputs": [
    {
     "name": "stdout",
     "output_type": "stream",
     "text": [
      "0 uploader    <Response [200]>\n",
      "1 uploader    <Response [200]>\n",
      "2 uploader    <Response [200]>\n",
      "3 uploader    <Response [200]>\n",
      "4 uploader    <Response [200]>\n"
     ]
    }
   ],
   "source": [
    "# Terhelés, küldjük el többször csak a modell, hívjuk az upload REST API-t\n",
    "milliseconds = 100\n",
    "wait = 0.001 * milliseconds\n",
    "\n",
    "for i in range(5):\n",
    "    time.sleep(wait)\n",
    "    # Ezzel a módszerrel lehet átküldeni neki a joblib model filét\n",
    "    uploadResultUrl = worker_address + '/uploader'\n",
    "    filePath = \"model.joblib\"\n",
    "    fileFp = open(filePath, 'rb')\n",
    "    fileInfoDict = {\n",
    "        \"file\": fileFp,\n",
    "        \"model_id\": 99999,                                    # <-- dummy értéket kap\n",
    "    }\n",
    "    resp = requests.post(uploadResultUrl, files=fileInfoDict)\n",
    "    print(i, 'uploader   ', resp)"
   ]
  },
  {
   "cell_type": "code",
   "execution_count": 680,
   "id": "3b5b75f7",
   "metadata": {},
   "outputs": [],
   "source": [
    "# API arra, hogy csináljon egy Git Pull-t majd újraindítom\n",
    "# resp = requests.get(worker_address + '/update')\n",
    "# print('update     ', resp)\n"
   ]
  },
  {
   "cell_type": "markdown",
   "id": "ab5b0975",
   "metadata": {},
   "source": [
    "## Most a helyi Driver Flask programhoz írok megszolítókat\n",
    "\n",
    "Fontos az egyes lépések sorrendje."
   ]
  },
  {
   "cell_type": "code",
   "execution_count": 681,
   "id": "45050e81",
   "metadata": {},
   "outputs": [
    {
     "name": "stdout",
     "output_type": "stream",
     "text": [
      "testpoint   <Response [200]>\n"
     ]
    }
   ],
   "source": [
    "\n",
    "driver_address = 'http://192.168.0.114:8080'\n",
    "\n",
    "\n",
    "# Átküldök egy értéket a Drivernek\n",
    "resp = requests.get(driver_address + '/testpoint?value=987654321')\n",
    "print('testpoint  ', resp)\n",
    "\n"
   ]
  },
  {
   "cell_type": "code",
   "execution_count": 682,
   "id": "b5b87820",
   "metadata": {},
   "outputs": [
    {
     "name": "stdout",
     "output_type": "stream",
     "text": [
      "calltestpoint   <Response [200]>\n"
     ]
    }
   ],
   "source": [
    "\n",
    "# A Driver hívja a Workerek testpoint API-t\n",
    "resp = requests.get(driver_address + '/calltestpoint')\n",
    "print('calltestpoint  ', resp)\n"
   ]
  },
  {
   "cell_type": "code",
   "execution_count": 717,
   "id": "ac833919",
   "metadata": {},
   "outputs": [
    {
     "name": "stdout",
     "output_type": "stream",
     "text": [
      "generation=100&factor=10&dummy=11\n",
      "setup          <Response [200]>\n"
     ]
    }
   ],
   "source": [
    "\n",
    "generation = 100\n",
    "factor     = 10\n",
    "dummy      = 11\n",
    "\n",
    "# A Driver setupja\n",
    "request_params = 'generation=' + (str)(generation) + '&' + 'factor=' + (str)(factor) + '&' + 'dummy=' + (str)(dummy)\n",
    "print(request_params)\n",
    "resp = requests.get(driver_address + '/setup?' + request_params)\n",
    "print('setup         ', resp)\n"
   ]
  },
  {
   "cell_type": "code",
   "execution_count": 718,
   "id": "91811883",
   "metadata": {},
   "outputs": [
    {
     "name": "stdout",
     "output_type": "stream",
     "text": [
      "initilaize      <Response [200]>\n"
     ]
    }
   ],
   "source": [
    "\n",
    "# A Driver inicializációja (itt áll elő egy csomó belső változó amit később használok)\n",
    "\n",
    "_nRowsRead = 90000\n",
    "\n",
    "request_params = '_nRowsRead=' + (str)(_nRowsRead)\n",
    "resp = requests.get(driver_address + '/initilaize?' + request_params)\n",
    "print('initilaize     ', resp)\n"
   ]
  },
  {
   "cell_type": "code",
   "execution_count": 719,
   "id": "777556bc",
   "metadata": {},
   "outputs": [
    {
     "name": "stdout",
     "output_type": "stream",
     "text": [
      "setupworkers    <Response [200]>\n"
     ]
    }
   ],
   "source": [
    "\n",
    "# A workerek setupja\n",
    "resp = requests.get(driver_address + '/setupworkers')\n",
    "print('setupworkers   ', resp)\n"
   ]
  },
  {
   "cell_type": "code",
   "execution_count": 720,
   "id": "3c403ae3",
   "metadata": {},
   "outputs": [
    {
     "name": "stdout",
     "output_type": "stream",
     "text": [
      "initializeworkers  <Response [200]>\n",
      "('[OK] worker', 'http://192.168.0.54:8080/', 'setup', 200)('[OK] worker', 'http://192.168.0.32:8080/', 'setup', 200)('[OK] worker', 'http://192.168.0.247:8080/', 'setup', 200)\n"
     ]
    }
   ],
   "source": [
    "\n",
    "# A workerek inicializációja\n",
    "resp = requests.get(driver_address + '/initializeworkers')\n",
    "print('initializeworkers ', resp)\n",
    "print(resp.text)\n"
   ]
  },
  {
   "cell_type": "code",
   "execution_count": 721,
   "id": "6b290bfc",
   "metadata": {},
   "outputs": [],
   "source": [
    "\n",
    "# Most azt kell tesztelnem, hogy a Workerek miután kiértékelték az eredményt\n",
    "# visszaküldik-e a Drivernek\n",
    "# és az fogadja-e?\n"
   ]
  },
  {
   "cell_type": "code",
   "execution_count": 722,
   "id": "8bd533d7",
   "metadata": {},
   "outputs": [
    {
     "name": "stdout",
     "output_type": "stream",
     "text": [
      "testworkerscalc    <Response [200]>\n"
     ]
    }
   ],
   "source": [
    "\n",
    "# Teszt csomag küldés a Workereknek, hogy kiszámolják-e amit ki kell\n",
    "resp = requests.get(driver_address + '/testworkerscalc')\n",
    "print('testworkerscalc   ', resp)\n"
   ]
  },
  {
   "cell_type": "code",
   "execution_count": 723,
   "id": "a6708449",
   "metadata": {},
   "outputs": [],
   "source": [
    "\n",
    "# Terhelés teszt törölhető lesz\n",
    "milliseconds = 100\n",
    "wait = 0.001 * milliseconds\n",
    "time.sleep(1)\n",
    "\n",
    "# for i in range(5):\n",
    "#     time.sleep(wait)\n",
    "    # Ez a végpont az összes workernek elküldi ugyan azt a modelt\n",
    "#     resp = requests.get(driver_address + '/testworkerscalc')\n",
    "#     print('testworkerscalc   ', resp)\n",
    "    "
   ]
  },
  {
   "cell_type": "code",
   "execution_count": 724,
   "id": "1af06d90",
   "metadata": {},
   "outputs": [],
   "source": [
    "# Visszakapja az adatokat\n",
    "# most akkor a drivert kell egy picit masziroznom,\n",
    "# főként a mutátor logikát\n",
    "# A testcalc API-t hagyom, az jó arra, hogy teszteljük, hogy valóban minden Worker ugyan azt az eredményt adja-e vissza,\n",
    "# ha azonos modelt kapnak.\n",
    "\n",
    "# Csinálni kell egy új apit, mondjuk 'eval', ami csinál egy modelt, randomizálja, visszakapja az eredményt és kiválasztja\n",
    "\n",
    "\n",
    "# Vigyázni kell,\n",
    "# Az elöző cellából visszamaradt és a háttérben még futó számítások nem kívánt beküldéseket eredményezhetnek a következő\n",
    "# cella futásában, ezért meg kell gyöződni arról, hogy minden korábbi futás válasza beérkezett-e és csak utána indítani\n",
    "# a következő cellát.\n",
    "\n",
    "# Meg kell várni míg minden korábbi lefutott és bevárni a válaszokat mert ez jelenleg még okozhat hibát (bug)\n",
    "# dolgozom rajta (ToDo)"
   ]
  },
  {
   "cell_type": "code",
   "execution_count": 725,
   "id": "8f702260",
   "metadata": {},
   "outputs": [
    {
     "name": "stdout",
     "output_type": "stream",
     "text": [
      "evolution       <Response [200]>\n",
      "<class 'requests.models.Response'>\n"
     ]
    }
   ],
   "source": [
    "\n",
    "# Meg kell várni míg minden korábbi lefutott és bevárni a válaszokat mert ez jelenleg még okozhat hibát (bug)\n",
    "# dolgozom rajta (ToDo)\n",
    "\n",
    "\n",
    "# Dev2\n",
    "resp = requests.get(driver_address + '/evolution2')\n",
    "print('evolution      ', resp)\n",
    "print(type(resp))\n",
    "\n"
   ]
  },
  {
   "cell_type": "code",
   "execution_count": 726,
   "id": "237a3c30",
   "metadata": {},
   "outputs": [
    {
     "name": "stdout",
     "output_type": "stream",
     "text": [
      "\u001b[48;5;236m\u001b[38;5;231mStack \u001b[38;5;208mAbuse\u001b[0;0m\n"
     ]
    }
   ],
   "source": [
    "print(\"\\033[48;5;236m\\033[38;5;231mStack \\033[38;5;208mAbuse\\033[0;0m\")"
   ]
  },
  {
   "cell_type": "code",
   "execution_count": 727,
   "id": "b80f8b81",
   "metadata": {},
   "outputs": [
    {
     "data": {
      "text/plain": [
       "['0.019928825622788082',\n",
       " '0.043653618030866426',\n",
       " '-0.16488730723606082',\n",
       " '0.0640569395017927',\n",
       " '0.05124555160143274',\n",
       " '-0.19264531435348786',\n",
       " '0.06998813760380784',\n",
       " '-0.18884934756819405',\n",
       " '0.07971530249112391',\n",
       " '0.08113879003558822',\n",
       " '0.0678529062870652',\n",
       " '0.059549228944248966',\n",
       " '0.054567022538552834',\n",
       " '0.049584816132849596',\n",
       " '0.04151838671412378',\n",
       " '0.06619217081851048',\n",
       " '0.06998813760379363',\n",
       " '0.030604982206401843',\n",
       " '0.0652431791221808',\n",
       " '0.07141162514829702',\n",
       " '0.08137603795966442',\n",
       " '0.048161328588367525',\n",
       " '0.07663107947804804',\n",
       " '0.049822064056936455',\n",
       " '0.07544483985765638',\n",
       " '0.06405693950178915',\n",
       " '0.11340450771055544',\n",
       " '0.12194543297747629',\n",
       " '0.138315539739029',\n",
       " '0.0934756820877709',\n",
       " '0.022775800711738015',\n",
       " '0.09418742586002438',\n",
       " '0.10320284697510473',\n",
       " '0.1392645314353551',\n",
       " '0.22538552787664656',\n",
       " '0.22918149466193327',\n",
       " '0.01826809015416231',\n",
       " '0.16085409252670857',\n",
       " '0.1779359430605041',\n",
       " '0.02633451957296984',\n",
       " '0.054567022538581256',\n",
       " '0.1909845788849438',\n",
       " '0.26144721233689694',\n",
       " '0.2244365361803098',\n",
       " '0.04958481613287091',\n",
       " '0.20830367734283328',\n",
       " '0.07520759193356596',\n",
       " '0.2018979833926693',\n",
       " '0.09323843416367694',\n",
       " '0.22918149466194038',\n",
       " '0.2498220640569606',\n",
       " '0.24128113879003266',\n",
       " '0.16536180308424164',\n",
       " '0.05409252669039688',\n",
       " '0.18576512455518568',\n",
       " '0.14377224199288463',\n",
       " '0.07188612099645297',\n",
       " '0.21589561091341025',\n",
       " '-0.07425860023725406',\n",
       " '0.06927639383156503',\n",
       " '0.08730723606167956',\n",
       " '-0.07995255041518234',\n",
       " '0.0773428232502944',\n",
       " '0.024911032028459346',\n",
       " '-0.0752075919335553',\n",
       " '0.21613285883750066',\n",
       " '0.15729537366550161',\n",
       " '0.22941874258602368',\n",
       " '0.09276393831552099',\n",
       " '0.04697508896795455',\n",
       " '0.27259786476867376',\n",
       " '0.034163701067630114',\n",
       " '0.2194543297746243',\n",
       " '0.2958481613285926',\n",
       " '0.26215895610911844',\n",
       " '0.2011862396204087',\n",
       " '0.2460260972716739',\n",
       " '0.1516014234875378',\n",
       " '0.27639383155399244',\n",
       " '0.132147093712927',\n",
       " '0.33997627520757945',\n",
       " '0.1954922894424449',\n",
       " '0.23131672597864394',\n",
       " '0.2251482799524993',\n",
       " '0.33238434163702024',\n",
       " '0.2889679715302407',\n",
       " '0.27117437722422366',\n",
       " '0.26737841043889077',\n",
       " '0.2941874258599988',\n",
       " '0.36037959667848085',\n",
       " '0.3174377224199034',\n",
       " '0.49442467378411337',\n",
       " '0.16797153024910472',\n",
       " '1.0142348754448243',\n",
       " '0.48422301304868043',\n",
       " '0.8080664294186661',\n",
       " '0.3307236061684833',\n",
       " '-1.1190984578885228',\n",
       " '0.2941874258599775',\n",
       " '0.3437722419928839']"
      ]
     },
     "execution_count": 727,
     "metadata": {},
     "output_type": "execute_result"
    }
   ],
   "source": [
    "resp.json()"
   ]
  },
  {
   "cell_type": "code",
   "execution_count": 728,
   "id": "27533133",
   "metadata": {},
   "outputs": [],
   "source": [
    "lst = resp.json()\n",
    "generation_best_score = [float(i) for i in lst]        # <-- list(str) -> list(float)"
   ]
  },
  {
   "cell_type": "code",
   "execution_count": 729,
   "id": "193ea2dc",
   "metadata": {
    "scrolled": true
   },
   "outputs": [
    {
     "data": {
      "image/png": "[encoded data removed]",
      "text/plain": [
       "<Figure size 432x288 with 1 Axes>"
      ]
     },
     "metadata": {
      "needs_background": "light"
     },
     "output_type": "display_data"
    }
   ],
   "source": [
    "plt.plot(generation_best_score)\n",
    "plt.show()"
   ]
  },
  {
   "cell_type": "code",
   "execution_count": null,
   "id": "52674565",
   "metadata": {},
   "outputs": [],
   "source": []
  }
 ],
 "metadata": {
  "kernelspec": {
   "display_name": "Python 3 (ipykernel)",
   "language": "python",
   "name": "python3"
  },
  "language_info": {
   "codemirror_mode": {
    "name": "ipython",
    "version": 3
   },
   "file_extension": ".py",
   "mimetype": "text/x-python",
   "name": "python",
   "nbconvert_exporter": "python",
   "pygments_lexer": "ipython3",
   "version": "3.8.10"
  }
 },
 "nbformat": 4,
 "nbformat_minor": 5
}
